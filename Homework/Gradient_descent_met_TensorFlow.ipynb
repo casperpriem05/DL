{
  "cells": [
    {
      "cell_type": "markdown",
      "metadata": {
        "id": "UODbMPAH3Keg"
      },
      "source": [
        "# TensorFlow en gradiënten\n",
        "\n",
        "TensorFlow is een library voor numerieke berekeningen, net als numpy. In tegenstelling tot numpy is TensorFlow geoptimaliseerd voor gebruik op hardware zoals GPU's. TensorFlow biedt ook \"automatic differentiation\". Dit betekent dat TensorFlow automatisch de gradiënt (de afgeleide) kan berekenen van elke functie die in TensorFlow is gecodeerd. Dit is vooral handig bij gradiëntdaling en backpropagatie, die de hoekstenen vormen van het trainen van neurale netwerken. Daarom wordt TensorFlow op grote schaal gebruikt bij het coderen van neurale netwerken en deep learning-modellen."
      ]
    },
    {
      "cell_type": "markdown",
      "metadata": {
        "id": "PxpwQKUT3Keo"
      },
      "source": [
        "## 1 Inleiding tot TensorFlow"
      ]
    },
    {
      "cell_type": "code",
      "execution_count": 1,
      "metadata": {
        "id": "6wj4aVmp3Keo"
      },
      "outputs": [],
      "source": [
        "# Library om YouTube videos te importeren\n",
        "\n",
        "from IPython.display import YouTubeVideo, Image"
      ]
    },
    {
      "cell_type": "markdown",
      "metadata": {
        "id": "fPrHIVdv3Keq"
      },
      "source": [
        "### 1.1 Arrays, matrices en tensoren.\n",
        "\n",
        "Maak met tf.constant() het volgende:\n",
        "1. Een scalair met de waarde 42.\n",
        "2. Een vector (1-dimensionale tensor) met de waarde [1, 2, 3, 4, 5].\n",
        "3. Een matrix (tweedimensionale tensor). De matrix moet de shape 3x3 hebben en de waarden 1 tot en met 9 bevatten.\n",
        "4. Een driedimensionale tensor. Kies elke gewenste vorm en waarden, maar zorg ervoor dat de dimensionaliteit 3 is.\n",
        "5. Een 4-dimensionale tensor. Kies elke gewenste vorm en waarden, maar zorg ervoor dat de dimensionaliteit 4 is.\n",
        "\n",
        "Tot nu toe heb je tensoren met constante waarden gemaakt. Maak nu een tensor met variabele waarden met behulp van tf.Variable(). Initialiseer deze tensor met waarden uit een willekeurige normale verdeling met behulp van tf.random.normal(). Zorg ervoor dat de vorm van deze variabele tensor [5, 10] is."
      ]
    },
    {
      "cell_type": "code",
      "execution_count": null,
      "metadata": {
        "id": "cEtFM19u3Ker"
      },
      "outputs": [],
      "source": [
        "import tensorflow as tf\n",
        "\n",
        "# Scalar tensor\n",
        "scalar = ## JOUW CODE HIER ##\n",
        "\n",
        "# 1D tensor\n",
        "vector = ## JOUW CODE HIER ##\n",
        "\n",
        "# 2D tensor\n",
        "matrix = ## JOUW CODE HIER ##\n",
        "\n",
        "# 3D tensor\n",
        "tensor3d = ## JOUW CODE HIER ##\n",
        "\n",
        "# 4D tensor\n",
        "tensor4d = ## JOUW CODE HIER ##\n",
        "\n",
        "# Variable-sized tensor\n",
        "variable_size_tensor = ## JOUW CODE HIER ##"
      ]
    },
    {
      "cell_type": "markdown",
      "metadata": {
        "id": "jpsFVUsM3Ket"
      },
      "source": [
        "### 1.2 Operaties met tensoren"
      ]
    },
    {
      "cell_type": "markdown",
      "metadata": {
        "id": "m8SnhVa-3Ket"
      },
      "source": [
        "In de cel hieronder heb je 2 tensoren. Voer met behulp van TF-functies de volgende bewerkingen uit:\n",
        "\n",
        "1. Tel de twee tensoren bij elkaar op.\n",
        "2. Trek b af van a.\n",
        "3. Vermenigvuldig de afzonderlijke elementen van de twee tensoren met elkaar.\n",
        "4. Verdeel de afzonderlijke elementen van a door b.\n",
        "5. Bereken het inproduct van de twee tensoren.\n",
        "6. Bereken de wortels van de elementen van a.\n",
        "7. Bereken de exponentiële van de elementen van a.\n",
        "8. Bereken de logaritme van de elementen van a.\n",
        "9. Bereken de sinus van de elementen van a.\n",
        "10. Reshape a naar de shape [1, 4]"
      ]
    },
    {
      "cell_type": "code",
      "execution_count": null,
      "metadata": {
        "id": "btFbo9YV3Ket"
      },
      "outputs": [],
      "source": [
        "# Twee tensoren\n",
        "a = tf.constant([[1.0, 2.0], [3.0, 4.0]])\n",
        "b = tf.constant([[5.0, 6.0], [7.0, 8.0]])\n",
        "\n",
        "# Element-wise addition\n",
        "c = ## JOUW CODE HIER ##\n",
        "\n",
        "# Element-wise subtraction\n",
        "d = ## JOUW CODE HIER ##\n",
        "\n",
        "# Element-wise multiplication\n",
        "e = ## JOUW CODE HIER ##\n",
        "\n",
        "# Element-wise division\n",
        "f = ## JOUW CODE HIER ##\n",
        "\n",
        "# Matrix multiplication\n",
        "g = ## JOUW CODE HIER ##\n",
        "\n",
        "# Square root\n",
        "h = ## JOUW CODE HIER ##\n",
        "\n",
        "# Exponential\n",
        "i = ## JOUW CODE HIER ##\n",
        "\n",
        "# Logarithm\n",
        "j = ## JOUW CODE HIER ##\n",
        "\n",
        "# Sine\n",
        "k = ## JOUW CODE HIER ##"
      ]
    },
    {
      "cell_type": "markdown",
      "metadata": {
        "id": "leadbZCd3Keu"
      },
      "source": [
        "### 1.3 Berekening van de gradiënt van een tensor."
      ]
    },
    {
      "cell_type": "markdown",
      "metadata": {
        "id": "oBkSHgTd3Keu"
      },
      "source": [
        "Een van de handigste functies van TensorFlow is dat het de gradiënten kan volgen van elke wiskundige bewerking die u op tensoren uitvoert. Met TensorFlow hoeft u de gradiënt niet handmatig te evalueren - u kunt eenvoudigweg de **GradientTape**-functionaliteit van TensorFlow gebruiken om automatisch de gradiënten van een wiskundige functie te berekenen en te volgen.\n",
        "\n",
        "In de cel hieronder hebben we een variabele \"x\" met de waarde 3. In deze oefening bereken je $y = x^2$ met TensorFlow en vind je vervolgens de gradiënt $\\frac{dy}{dx}$ met tf.GradientTape(). Wat is de gradiënt van $y = x^2$ wanneer $x$ 3 is?"
      ]
    },
    {
      "cell_type": "code",
      "execution_count": null,
      "metadata": {
        "id": "jj8Aph_j3Keu"
      },
      "outputs": [],
      "source": [
        "# Een variabele tensor met een beginwaarde van 3\n",
        "x = tf.Variable(3.0)\n",
        "\n",
        "# Gebruik de GradientTape van TensorFlow om de gradiënt van de functie ten opzichte van de invoervariabele te volgen\n",
        "with tf.GradientTape() as tape:\n",
        "    ## JOUW CODE HIER ##\n",
        "    y = ## JOUW CODE HIER ##\n",
        "\n",
        "# Print the gradient of the function with respect to the input variable\n",
        "print(tape.gradient(y, x))\n",
        "\n",
        "# Output: 6.0"
      ]
    },
    {
      "cell_type": "markdown",
      "metadata": {
        "id": "xopEIOK03Keu"
      },
      "source": [
        "## 2 Gradient descent met TensorFlow"
      ]
    },
    {
      "cell_type": "markdown",
      "metadata": {
        "id": "-0lSVQTY3Kew"
      },
      "source": [
        "### 2.1 Het vinden van de maxima of minima van een functie met behulp van gradiëntafdaling.\n",
        "\n",
        "Laten we deze functie als voorbeeld nemen: $y = x \\sin(x^2) + 1$\n",
        "\n",
        "![Gradient of a function](https://upload.wikimedia.org/wikipedia/commons/2/2d/Tangent_function_animation.gif).\n",
        "\n",
        "Laten we eerst in kaart brengen hoe deze functie eruit ziet:"
      ]
    },
    {
      "cell_type": "code",
      "execution_count": null,
      "metadata": {
        "id": "bk1stb-7ZxpY"
      },
      "outputs": [],
      "source": [
        "import numpy as np\n",
        "import matplotlib.pyplot as plt\n",
        "\n",
        "def f(x):\n",
        "    return x * tf.sin(tf.square(x)) + 1\n",
        "\n",
        "xx = np.linspace(-3, 3, num=500)\n",
        "yy = f(xx)\n",
        "\n",
        "plt.plot(xx, yy)\n",
        "plt.title('Een ingewikkelde functie f(x)')"
      ]
    },
    {
      "cell_type": "markdown",
      "metadata": {
        "id": "BZgkOPrH3Kew"
      },
      "source": [
        "In deze oefening codeer je het gradient descent algoritme, waarbij je gebruik maakt van TensorFlow om de gradiënten te berekenen. Het doel is om de waarde van 'x' te vinden die de functie minimaliseert.\n",
        "\n",
        "Maak een functie die één stap van gradient descent uitvoert.\n",
        "\n",
        "Tip: Gebruik de formule: $x_{new} = x_{old} - \\alpha \\frac{dy}{dx}$"
      ]
    },
    {
      "cell_type": "code",
      "execution_count": null,
      "metadata": {
        "id": "KIcRvASU3Kew"
      },
      "outputs": [],
      "source": [
        "def grad_desc(f, x_old, alpha):\n",
        "    '''\n",
        "    Parameters:\n",
        "    f: A function f(x)\n",
        "    x_old: Old value of x\n",
        "    alpha: learning rate\n",
        "\n",
        "    Returns:\n",
        "    x_new: New value of x after 1 step of gradient descent.'''\n",
        "\n",
        "    # Assign x_old to a variable tensor in TensorFlow\n",
        "    x = ## JOUW CODE HIER ##\n",
        "\n",
        "    # Step 1: with tf.GradientTape(), evaluate f(x) and calculate the gradient\n",
        "    with ## JOUW CODE HIER ##\n",
        "        ## JOUW CODE HIER ##\n",
        "        y = ## JOUW CODE HIER ##\n",
        "\n",
        "    grad = ## JOUW CODE HIER ##\n",
        "\n",
        "    # Step 2: apply the gradient descent formula to update x\n",
        "    x_new = ## JOUW CODE HIER ##\n",
        "\n",
        "    # Return the final value of x\n",
        "    return x_new"
      ]
    },
    {
      "cell_type": "markdown",
      "metadata": {
        "id": "mFuTtWl83Kex"
      },
      "source": [
        "Enkele vragen voor jou:\n",
        "\n",
        "1. Wat denk je dat er zou gebeuren als de learning rate $\\alpha$ erg klein was? Probeer een kleine waarde van $\\alpha$ te gebruiken en kijk hoe lang het duurt om te convergeren.\n",
        "2. Wat denk je dat er zou gebeuren als de leersnelheid $\\alpha$ erg groot was? Probeer een grote waarde van $\\alpha$ te gebruiken en kijk of deze convergeert, en zo ja, hoe lang het duurt om te convergeren.\n",
        "3. Wat zou er gebeuren als we een andere startwaarde hadden voor $x$? Probeer verschillende startwaarden voor $x$."
      ]
    },
    {
      "cell_type": "markdown",
      "metadata": {
        "id": "tJX2H1U93Kex"
      },
      "source": [
        "Om dit nog duidelijker voor je te maken, is hier wat code die een mooie visualisatie maakt van het gradient descent process voor deze functie. Je hoeft je geen zorgen te maken over de code die hiervoor wordt gebruikt; dit is alleen bedoeld om visueel te illustreren wat er gebeurt bij gradient descent. Wanneer je de functies hebt gecodeerd, kies je een startwaarde voor x, kies een learning rate, en voer de onderstaande codecel uit."
      ]
    },
    {
      "cell_type": "code",
      "execution_count": null,
      "metadata": {
        "colab": {
          "base_uri": "https://localhost:8080/",
          "height": 448
        },
        "id": "jvcyDyjJ3Key",
        "outputId": "6e43e039-1f9b-4afd-d912-65e9511fcf07"
      },
      "outputs": [
        {
          "data": {
            "image/png": "[encoded data removed]",
            "text/plain": [
              "<Figure size 640x480 with 1 Axes>"
            ]
          },
          "metadata": {},
          "output_type": "display_data"
        },
        {
          "name": "stdout",
          "output_type": "stream",
          "text": [
            "The final value of x is -2.813727906308456 after 6 steps.\n"
          ]
        }
      ],
      "source": [
        "# Starting value of x\n",
        "x = -3.0 # Kies hier een waarde\n",
        "\n",
        "# Choose a value for the learning rate\n",
        "α = 0.01 # Kies hier een waarde\n",
        "\n",
        "\n",
        "# Wijzig de code hieronder niet!! #\n",
        "\n",
        "%matplotlib inline\n",
        "from IPython.display import clear_output\n",
        "from time import sleep\n",
        "\n",
        "# Counter to track the number of iterations\n",
        "counter = 0\n",
        "\n",
        "# Array to store the values of x and f(x) at each iteration\n",
        "history_x = []\n",
        "history_y = []\n",
        "\n",
        "# Set up animation\n",
        "fig = plt.figure(figsize=(10, 6))\n",
        "x_vals = np.linspace(-3, 3, 1000)\n",
        "y_vals = f(x_vals)\n",
        "\n",
        "# Run gradient descent in a loop\n",
        "while(counter < 100):\n",
        "\n",
        "    counter += 1\n",
        "\n",
        "    y = f(x)\n",
        "\n",
        "    # Apply the gradient descent formula to update x\n",
        "    x_new = grad_desc(f, x, α)\n",
        "\n",
        "    # Plot the function\n",
        "    plt.plot(x_vals, y_vals, 'b-')\n",
        "\n",
        "    # Plot the current value of f(x)\n",
        "    history_x.append(x)\n",
        "    history_y.append(y)\n",
        "    plt.plot(x, y, 'ro')\n",
        "\n",
        "    # Plot the values of f(x) from the previous iterations\n",
        "    if counter > 1:\n",
        "        plt.plot(history_x, history_y, 'g-')\n",
        "\n",
        "    # Add to animation\n",
        "    plt.show()\n",
        "\n",
        "    # Step 3: Check if x has changed a lot. If not, then break out of the loop.\n",
        "    if np.abs(x_new - x)< 1e-5:\n",
        "        break\n",
        "    else:\n",
        "        # Update x\n",
        "        x = x_new\n",
        "\n",
        "    # Clear plot\n",
        "    #sleep(0.1)\n",
        "    clear_output(wait=True)\n",
        "\n",
        "#plt.close()\n",
        "\n",
        "# Print the value of x you found using gradient descent\n",
        "print(f\"The final value of x is {x} after {counter} steps.\")"
      ]
    },
    {
      "cell_type": "markdown",
      "metadata": {
        "id": "2srYS4mT3Ke5"
      },
      "source": [
        "### 2.2 Een lineaire regressie oplossen met behulp van gradient descent\n",
        "\n",
        "Afgelopen semester heb je geleerd hoe gradient descent wordt gebruikt om de parameters van een lineair regressiemodel te vinden. Dit codeer je in deze oefening met TensorFlow."
      ]
    },
    {
      "cell_type": "code",
      "execution_count": null,
      "metadata": {
        "colab": {
          "base_uri": "https://localhost:8080/",
          "height": 467
        },
        "id": "qgfPW-AL3Ke5",
        "outputId": "a1c8dbb1-2ff3-40ea-9b90-79e8001ca794"
      },
      "outputs": [
        {
          "data": {
            "text/plain": [
              "<Axes: xlabel='height', ylabel='shoe_size'>"
            ]
          },
          "execution_count": 14,
          "metadata": {},
          "output_type": "execute_result"
        },
        {
          "data": {
            "image/png": "[encoded data removed]",
            "text/plain": [
              "<Figure size 640x480 with 1 Axes>"
            ]
          },
          "metadata": {},
          "output_type": "display_data"
        }
      ],
      "source": [
        "import pandas as pd\n",
        "\n",
        "height_shoe_df = pd.read_csv('wo_men.csv').dropna()\n",
        "height_shoe_df_clean = height_shoe_df[(height_shoe_df['height'] > 100) & (height_shoe_df['height'] < 250)]\n",
        "height_shoe_df_clean.plot.scatter(x='height', y='shoe_size')"
      ]
    },
    {
      "cell_type": "markdown",
      "metadata": {
        "id": "CzlQn3Mn3Ke6"
      },
      "source": [
        "We moeten de gegevens omzetten in tensoren zodat TensorFlow deze kan gebruiken."
      ]
    },
    {
      "cell_type": "code",
      "execution_count": null,
      "metadata": {
        "id": "0TmEi9ml3Ke6"
      },
      "outputs": [],
      "source": [
        "x = tf.convert_to_tensor(height_shoe_df['height'], dtype='float32')\n",
        "y = tf.convert_to_tensor(height_shoe_df['shoe_size'], dtype='float32')"
      ]
    },
    {
      "cell_type": "markdown",
      "metadata": {
        "id": "sqCk0BmU3Ke6"
      },
      "source": [
        "Definieer de lossfunctie. Laten we voor deze oefening het MSE-loss gebruiken. Codeer dit met behulp van TensorFlow in de onderstaande functie."
      ]
    },
    {
      "cell_type": "code",
      "execution_count": null,
      "metadata": {
        "id": "fH_Mls-T3Ke6"
      },
      "outputs": [],
      "source": [
        "# Function to calculate MSE\n",
        "def MSE(x, y, b_0, b_1):\n",
        "    return ## JOUW CODE HIER ##"
      ]
    },
    {
      "cell_type": "markdown",
      "metadata": {
        "id": "bU2TGxzh3Ke7"
      },
      "source": [
        "Run gradient descent in een loop."
      ]
    },
    {
      "cell_type": "code",
      "execution_count": null,
      "metadata": {
        "id": "-FIaBbmx3Ke7"
      },
      "outputs": [],
      "source": [
        "iterations = 20\n",
        "counter = 0\n",
        "\n",
        "# Pick the learning rate\n",
        "alpha = 0.00001\n",
        "\n",
        "loss_curve = []\n",
        "\n",
        "# Pick starting values for b_0 and b_1\n",
        "b_0 = tf.Variable(1.0, dtype='float32')\n",
        "b_1 = tf.Variable(1.0, dtype='float32')\n",
        "\n",
        "\n",
        "while (counter < iterations):\n",
        "    # Step 1: evaluate f(x) and calculate the gradient\n",
        "    with ## JOUW CODE HIER ##\n",
        "        ## JOUW CODE HIER ##\n",
        "        r = MSE(x, y, b_0, b_1)\n",
        "\n",
        "    # Step 2: Calculate the partial gradients. This is possible using tape.gradient()\n",
        "    partial_gradients = ## JOUW CODE HIER ##\n",
        "\n",
        "    # Step 3: Apply the updates to the variables\n",
        "    b_0.assign_add(-alpha * partial_gradients[0])\n",
        "    b_1.assign_add(-alpha * partial_gradients[1])\n",
        "\n",
        "    loss_curve.append(r.numpy())\n",
        "\n",
        "    # Step 3: Update counter\n",
        "    counter += 1\n",
        "\n",
        "print(f\"The final RMSE is {r.numpy()}, for intercept {b_0.numpy()} and coefficient {b_1.numpy()}\")"
      ]
    },
    {
      "cell_type": "markdown",
      "metadata": {
        "id": "T5mQfXSI3Ke7"
      },
      "source": [
        "Laten we eens kijken hoe de loss eruit ziet bij elke stap van de gradiënt descent."
      ]
    },
    {
      "cell_type": "code",
      "execution_count": null,
      "metadata": {
        "id": "sT9zStH93Ke7"
      },
      "outputs": [],
      "source": [
        "plt.plot(loss_curve)"
      ]
    },
    {
      "cell_type": "markdown",
      "metadata": {
        "id": "l9kTDmWG3Ke7"
      },
      "source": [
        "Nu we de geoptimaliseerde waarden van de coëfficiënten hebben, kunnen we het getrainde model plotten."
      ]
    },
    {
      "cell_type": "code",
      "execution_count": null,
      "metadata": {
        "id": "biLBtxxW3Ke7"
      },
      "outputs": [],
      "source": [
        "def final_model(x):\n",
        "    y = b_0.numpy() + b_1.numpy() * x\n",
        "    return y\n",
        "\n",
        "xrange = np.linspace(min(height_shoe_df_clean['height']), max(height_shoe_df_clean['height']), num=100)\n",
        "\n",
        "yrange = [final_model(h) for h in xrange]\n",
        "\n",
        "height_shoe_df_clean.plot.scatter(x='height', y='shoe_size')\n",
        "plt.plot(xrange, yrange, 'r-')\n",
        "plt.show()"
      ]
    }
  ],
  "metadata": {
    "colab": {
      "provenance": []
    },
    "kernelspec": {
      "display_name": "Python 3",
      "language": "python",
      "name": "python3"
    },
    "language_info": {
      "codemirror_mode": {
        "name": "ipython",
        "version": 3
      },
      "file_extension": ".py",
      "mimetype": "text/x-python",
      "name": "python",
      "nbconvert_exporter": "python",
      "pygments_lexer": "ipython3",
      "version": "3.12.6"
    }
  },
  "nbformat": 4,
  "nbformat_minor": 0
}
